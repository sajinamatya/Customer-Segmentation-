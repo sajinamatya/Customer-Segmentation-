{
 "cells": [
  {
   "cell_type": "code",
   "execution_count": 2,
   "id": "f5cd3a73-0239-4b04-bc5e-6821844426e7",
   "metadata": {
    "tags": []
   },
   "outputs": [],
   "source": [
    "import pandas as pd \n"
   ]
  },
  {
   "cell_type": "markdown",
   "id": "55477568-0a2b-4a0d-8e80-42236bcd9b41",
   "metadata": {},
   "source": [
    "# 1) Data Understanding "
   ]
  },
  {
   "cell_type": "code",
   "execution_count": 3,
   "id": "a710196a-cdd3-43b1-bc3f-70e2681ef1a6",
   "metadata": {
    "tags": []
   },
   "outputs": [],
   "source": [
    "dataframe = pd.read_csv(\"Mall_Customers.csv\")\n"
   ]
  },
  {
   "cell_type": "markdown",
   "id": "6c5996ad-f047-4e7e-b727-15c4bda81be6",
   "metadata": {},
   "source": [
    "## 1.1) Data inspection first 5 rows "
   ]
  },
  {
   "cell_type": "code",
   "execution_count": 4,
   "id": "b998a1a6-fa46-44a6-bbb2-110d139531a2",
   "metadata": {
    "tags": []
   },
   "outputs": [
    {
     "name": "stdout",
     "output_type": "stream",
     "text": [
      "   CustomerID  Gender  Age  Annual Income (k$)  Spending Score (1-100)\n",
      "0           1    Male   19                  15                      39\n",
      "1           2    Male   21                  15                      81\n",
      "2           3  Female   20                  16                       6\n",
      "3           4  Female   23                  16                      77\n",
      "4           5  Female   31                  17                      40\n"
     ]
    }
   ],
   "source": [
    "print(dataframe.head())"
   ]
  },
  {
   "cell_type": "markdown",
   "id": "f93020b5-6749-4994-a6fc-b87a254eb520",
   "metadata": {},
   "source": [
    "## 1.2) Data inspection last 5 rows "
   ]
  },
  {
   "cell_type": "code",
   "execution_count": 5,
   "id": "ae85d350-1d30-4667-9af1-0638defc9688",
   "metadata": {
    "tags": []
   },
   "outputs": [
    {
     "name": "stdout",
     "output_type": "stream",
     "text": [
      "     CustomerID  Gender  Age  Annual Income (k$)  Spending Score (1-100)\n",
      "195         196  Female   35                 120                      79\n",
      "196         197  Female   45                 126                      28\n",
      "197         198    Male   32                 126                      74\n",
      "198         199    Male   32                 137                      18\n",
      "199         200    Male   30                 137                      83\n"
     ]
    }
   ],
   "source": [
    "print(dataframe.tail())"
   ]
  },
  {
   "cell_type": "markdown",
   "id": "e54457c6-8dee-47fb-a0cd-0070ded32d15",
   "metadata": {},
   "source": [
    "## 1.3) Columns of the dataframe"
   ]
  },
  {
   "cell_type": "code",
   "execution_count": 6,
   "id": "0f416c39-c0e6-49a3-8ab3-83b88f92781d",
   "metadata": {
    "tags": []
   },
   "outputs": [
    {
     "data": {
      "text/plain": [
       "Index(['CustomerID', 'Gender', 'Age', 'Annual Income (k$)',\n",
       "       'Spending Score (1-100)'],\n",
       "      dtype='object')"
      ]
     },
     "execution_count": 6,
     "metadata": {},
     "output_type": "execute_result"
    }
   ],
   "source": [
    "dataframe.columns\n"
   ]
  },
  {
   "cell_type": "markdown",
   "id": "378d62a1-c556-4462-97f3-f913f4daa157",
   "metadata": {},
   "source": [
    "## 1.4) Information on each columns of the dataframe \n"
   ]
  },
  {
   "cell_type": "code",
   "execution_count": 7,
   "id": "bb3638e7-65bf-47ce-b552-5ec38a0e817a",
   "metadata": {
    "tags": []
   },
   "outputs": [
    {
     "name": "stdout",
     "output_type": "stream",
     "text": [
      "<class 'pandas.core.frame.DataFrame'>\n",
      "RangeIndex: 200 entries, 0 to 199\n",
      "Data columns (total 5 columns):\n",
      " #   Column                  Non-Null Count  Dtype \n",
      "---  ------                  --------------  ----- \n",
      " 0   CustomerID              200 non-null    int64 \n",
      " 1   Gender                  200 non-null    object\n",
      " 2   Age                     200 non-null    int64 \n",
      " 3   Annual Income (k$)      200 non-null    int64 \n",
      " 4   Spending Score (1-100)  200 non-null    int64 \n",
      "dtypes: int64(4), object(1)\n",
      "memory usage: 7.9+ KB\n"
     ]
    }
   ],
   "source": [
    "dataframe.info()"
   ]
  },
  {
   "cell_type": "markdown",
   "id": "cbfb72a6-386f-4e96-b64d-77ae616be7ba",
   "metadata": {
    "tags": []
   },
   "source": [
    "## 1.5) Statistical Description "
   ]
  },
  {
   "cell_type": "code",
   "execution_count": 8,
   "id": "5295a889-ca03-4f86-9a46-154466f0791b",
   "metadata": {
    "tags": []
   },
   "outputs": [
    {
     "data": {
      "text/html": [
       "<div>\n",
       "<style scoped>\n",
       "    .dataframe tbody tr th:only-of-type {\n",
       "        vertical-align: middle;\n",
       "    }\n",
       "\n",
       "    .dataframe tbody tr th {\n",
       "        vertical-align: top;\n",
       "    }\n",
       "\n",
       "    .dataframe thead th {\n",
       "        text-align: right;\n",
       "    }\n",
       "</style>\n",
       "<table border=\"1\" class=\"dataframe\">\n",
       "  <thead>\n",
       "    <tr style=\"text-align: right;\">\n",
       "      <th></th>\n",
       "      <th>Age</th>\n",
       "      <th>Annual Income (k$)</th>\n",
       "      <th>Spending Score (1-100)</th>\n",
       "    </tr>\n",
       "  </thead>\n",
       "  <tbody>\n",
       "    <tr>\n",
       "      <th>count</th>\n",
       "      <td>200.000000</td>\n",
       "      <td>200.000000</td>\n",
       "      <td>200.000000</td>\n",
       "    </tr>\n",
       "    <tr>\n",
       "      <th>mean</th>\n",
       "      <td>38.850000</td>\n",
       "      <td>60.560000</td>\n",
       "      <td>50.200000</td>\n",
       "    </tr>\n",
       "    <tr>\n",
       "      <th>std</th>\n",
       "      <td>13.969007</td>\n",
       "      <td>26.264721</td>\n",
       "      <td>25.823522</td>\n",
       "    </tr>\n",
       "    <tr>\n",
       "      <th>min</th>\n",
       "      <td>18.000000</td>\n",
       "      <td>15.000000</td>\n",
       "      <td>1.000000</td>\n",
       "    </tr>\n",
       "    <tr>\n",
       "      <th>25%</th>\n",
       "      <td>28.750000</td>\n",
       "      <td>41.500000</td>\n",
       "      <td>34.750000</td>\n",
       "    </tr>\n",
       "    <tr>\n",
       "      <th>50%</th>\n",
       "      <td>36.000000</td>\n",
       "      <td>61.500000</td>\n",
       "      <td>50.000000</td>\n",
       "    </tr>\n",
       "    <tr>\n",
       "      <th>75%</th>\n",
       "      <td>49.000000</td>\n",
       "      <td>78.000000</td>\n",
       "      <td>73.000000</td>\n",
       "    </tr>\n",
       "    <tr>\n",
       "      <th>max</th>\n",
       "      <td>70.000000</td>\n",
       "      <td>137.000000</td>\n",
       "      <td>99.000000</td>\n",
       "    </tr>\n",
       "  </tbody>\n",
       "</table>\n",
       "</div>"
      ],
      "text/plain": [
       "              Age  Annual Income (k$)  Spending Score (1-100)\n",
       "count  200.000000          200.000000              200.000000\n",
       "mean    38.850000           60.560000               50.200000\n",
       "std     13.969007           26.264721               25.823522\n",
       "min     18.000000           15.000000                1.000000\n",
       "25%     28.750000           41.500000               34.750000\n",
       "50%     36.000000           61.500000               50.000000\n",
       "75%     49.000000           78.000000               73.000000\n",
       "max     70.000000          137.000000               99.000000"
      ]
     },
     "execution_count": 8,
     "metadata": {},
     "output_type": "execute_result"
    }
   ],
   "source": [
    "dataframe[['Age','Annual Income (k$)','Spending Score (1-100)']].describe()"
   ]
  },
  {
   "cell_type": "markdown",
   "id": "78895ec9-d237-456d-ae70-b56917bf6e32",
   "metadata": {
    "tags": []
   },
   "source": [
    "## 1.6) Skewness "
   ]
  },
  {
   "cell_type": "code",
   "execution_count": 9,
   "id": "951bf2d3-8222-445f-93c6-a057e4184e3b",
   "metadata": {
    "tags": []
   },
   "outputs": [
    {
     "data": {
      "text/plain": [
       "Age                       0.485569\n",
       "Annual Income (k$)        0.321843\n",
       "Spending Score (1-100)   -0.047220\n",
       "dtype: float64"
      ]
     },
     "execution_count": 9,
     "metadata": {},
     "output_type": "execute_result"
    }
   ],
   "source": [
    "dataframe[['Age','Annual Income (k$)','Spending Score (1-100)']].skew()"
   ]
  },
  {
   "cell_type": "markdown",
   "id": "6d1771f1-06db-4610-ac16-418d42628f3e",
   "metadata": {
    "tags": []
   },
   "source": [
    "#### Spending score column is  slighly negatively skewed/ left skewed, the data is relatively symmetrical/ normally distributed.\n",
    "#### Most of the customer have higher spending score, while few  customer  have lower spending score as they rarely vists  the department store \n",
    "\n",
    "\n",
    "\n",
    "\n"
   ]
  },
  {
   "cell_type": "markdown",
   "id": "a60abdf7-743f-4510-b4f1-0cf31d440ae5",
   "metadata": {
    "tags": []
   },
   "source": [
    "##"
   ]
  },
  {
   "cell_type": "markdown",
   "id": "786a82d8-3b77-48a6-8e11-d9473f7d92e4",
   "metadata": {
    "tags": []
   },
   "source": [
    "## 1.7) Total number of female and male in the data set"
   ]
  },
  {
   "cell_type": "code",
   "execution_count": 10,
   "id": "9ad96372-82e8-49f8-87e4-5f63ba98725e",
   "metadata": {
    "tags": []
   },
   "outputs": [
    {
     "data": {
      "text/plain": [
       "Gender\n",
       "Female    112\n",
       "Male       88\n",
       "Name: count, dtype: int64"
      ]
     },
     "execution_count": 10,
     "metadata": {},
     "output_type": "execute_result"
    }
   ],
   "source": [
    "dataframe[['Gender']].value_counts()"
   ]
  },
  {
   "cell_type": "markdown",
   "id": "3b7c6029-a1c1-472a-bacc-b464a413497e",
   "metadata": {
    "tags": []
   },
   "source": [
    "#### There are total of 112 female and 88 male data in a data frame. "
   ]
  },
  {
   "cell_type": "markdown",
   "id": "ef868ead-27a7-4bc3-844d-e33cf2ca0584",
   "metadata": {},
   "source": [
    "## 1.8)  Missing values \n"
   ]
  },
  {
   "cell_type": "code",
   "execution_count": 11,
   "id": "071fac82-9002-492c-8c4a-717941086e57",
   "metadata": {
    "tags": []
   },
   "outputs": [
    {
     "data": {
      "text/plain": [
       "CustomerID                0\n",
       "Gender                    0\n",
       "Age                       0\n",
       "Annual Income (k$)        0\n",
       "Spending Score (1-100)    0\n",
       "dtype: int64"
      ]
     },
     "execution_count": 11,
     "metadata": {},
     "output_type": "execute_result"
    }
   ],
   "source": [
    "dataframe.isna().sum()"
   ]
  },
  {
   "cell_type": "markdown",
   "id": "0731dad2-6a42-4aaf-9c14-b615d79180c6",
   "metadata": {
    "tags": []
   },
   "source": [
    "#### No missing values in the data set "
   ]
  },
  {
   "cell_type": "markdown",
   "id": "816a3fb6-5690-47c7-aea4-32483ec97909",
   "metadata": {},
   "source": [
    "## 1.9) Duplicate values "
   ]
  },
  {
   "cell_type": "code",
   "execution_count": 15,
   "id": "93330b77-0714-4e4e-80d8-1a08b7ec42e6",
   "metadata": {
    "tags": []
   },
   "outputs": [
    {
     "data": {
      "text/plain": [
       "False"
      ]
     },
     "execution_count": 15,
     "metadata": {},
     "output_type": "execute_result"
    }
   ],
   "source": [
    "dataframe.duplicated().any()"
   ]
  },
  {
   "cell_type": "markdown",
   "id": "4353bbb9-4f0b-4a5c-a2a1-b6b2a7b92edb",
   "metadata": {},
   "source": [
    "#### All the row entry are unique, no duplicates data "
   ]
  },
  {
   "cell_type": "code",
   "execution_count": null,
   "id": "68db2368-d48f-4eec-9e03-5bcc7163807c",
   "metadata": {},
   "outputs": [],
   "source": []
  }
 ],
 "metadata": {
  "kernelspec": {
   "display_name": "Python 3 (ipykernel)",
   "language": "python",
   "name": "python3"
  },
  "language_info": {
   "codemirror_mode": {
    "name": "ipython",
    "version": 3
   },
   "file_extension": ".py",
   "mimetype": "text/x-python",
   "name": "python",
   "nbconvert_exporter": "python",
   "pygments_lexer": "ipython3",
   "version": "3.11.5"
  }
 },
 "nbformat": 4,
 "nbformat_minor": 5
}
