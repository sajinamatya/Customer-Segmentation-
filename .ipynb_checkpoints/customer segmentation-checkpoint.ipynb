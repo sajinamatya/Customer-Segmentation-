{
 "cells": [
  {
   "cell_type": "code",
   "execution_count": 3,
   "id": "f5cd3a73-0239-4b04-bc5e-6821844426e7",
   "metadata": {
    "tags": []
   },
   "outputs": [],
   "source": [
    "import pandas as pd \n",
    "import seaborn as sns\n",
    "import matplotlib.pyplot as plt\n",
    "import numpy as np "
   ]
  },
  {
   "cell_type": "markdown",
   "id": "55477568-0a2b-4a0d-8e80-42236bcd9b41",
   "metadata": {},
   "source": [
    "# 1) Data Understanding "
   ]
  },
  {
   "cell_type": "code",
   "execution_count": 4,
   "id": "a710196a-cdd3-43b1-bc3f-70e2681ef1a6",
   "metadata": {
    "tags": []
   },
   "outputs": [],
   "source": [
    "dataframe = pd.read_csv(\"Mall_Customers.csv\")\n"
   ]
  },
  {
   "cell_type": "markdown",
   "id": "6c5996ad-f047-4e7e-b727-15c4bda81be6",
   "metadata": {},
   "source": [
    "## 1.1) Data inspection first 5 rows "
   ]
  },
  {
   "cell_type": "code",
   "execution_count": 5,
   "id": "b998a1a6-fa46-44a6-bbb2-110d139531a2",
   "metadata": {
    "tags": []
   },
   "outputs": [
    {
     "name": "stdout",
     "output_type": "stream",
     "text": [
      "   CustomerID  Gender  Age  Annual Income (k$)  Spending Score (1-100)\n",
      "0           1    Male   19                  15                      39\n",
      "1           2    Male   21                  15                      81\n",
      "2           3  Female   20                  16                       6\n",
      "3           4  Female   23                  16                      77\n",
      "4           5  Female   31                  17                      40\n"
     ]
    }
   ],
   "source": [
    "print(dataframe.head())"
   ]
  },
  {
   "cell_type": "markdown",
   "id": "f93020b5-6749-4994-a6fc-b87a254eb520",
   "metadata": {},
   "source": [
    "## 1.2) Data inspection last 5 rows "
   ]
  },
  {
   "cell_type": "code",
   "execution_count": 6,
   "id": "ae85d350-1d30-4667-9af1-0638defc9688",
   "metadata": {
    "tags": []
   },
   "outputs": [
    {
     "name": "stdout",
     "output_type": "stream",
     "text": [
      "     CustomerID  Gender  Age  Annual Income (k$)  Spending Score (1-100)\n",
      "195         196  Female   35                 120                      79\n",
      "196         197  Female   45                 126                      28\n",
      "197         198    Male   32                 126                      74\n",
      "198         199    Male   32                 137                      18\n",
      "199         200    Male   30                 137                      83\n"
     ]
    }
   ],
   "source": [
    "print(dataframe.tail())"
   ]
  },
  {
   "cell_type": "markdown",
   "id": "e54457c6-8dee-47fb-a0cd-0070ded32d15",
   "metadata": {},
   "source": [
    "## 1.3) Columns of the dataframe"
   ]
  },
  {
   "cell_type": "code",
   "execution_count": 7,
   "id": "0f416c39-c0e6-49a3-8ab3-83b88f92781d",
   "metadata": {
    "tags": []
   },
   "outputs": [
    {
     "data": {
      "text/plain": [
       "Index(['CustomerID', 'Gender', 'Age', 'Annual Income (k$)',\n",
       "       'Spending Score (1-100)'],\n",
       "      dtype='object')"
      ]
     },
     "execution_count": 7,
     "metadata": {},
     "output_type": "execute_result"
    }
   ],
   "source": [
    "dataframe.columns"
   ]
  },
  {
   "cell_type": "markdown",
   "id": "378d62a1-c556-4462-97f3-f913f4daa157",
   "metadata": {},
   "source": [
    "## 1.4) Information on each columns of the dataframe \n"
   ]
  },
  {
   "cell_type": "code",
   "execution_count": 8,
   "id": "bb3638e7-65bf-47ce-b552-5ec38a0e817a",
   "metadata": {
    "tags": []
   },
   "outputs": [
    {
     "name": "stdout",
     "output_type": "stream",
     "text": [
      "<class 'pandas.core.frame.DataFrame'>\n",
      "RangeIndex: 200 entries, 0 to 199\n",
      "Data columns (total 5 columns):\n",
      " #   Column                  Non-Null Count  Dtype \n",
      "---  ------                  --------------  ----- \n",
      " 0   CustomerID              200 non-null    int64 \n",
      " 1   Gender                  200 non-null    object\n",
      " 2   Age                     200 non-null    int64 \n",
      " 3   Annual Income (k$)      200 non-null    int64 \n",
      " 4   Spending Score (1-100)  200 non-null    int64 \n",
      "dtypes: int64(4), object(1)\n",
      "memory usage: 7.9+ KB\n"
     ]
    }
   ],
   "source": [
    "dataframe.info()"
   ]
  },
  {
   "cell_type": "markdown",
   "id": "3e453ff3-bcef-43bc-9cc6-6a501fbaaf57",
   "metadata": {
    "tags": []
   },
   "source": [
    "#### There are total of 5 columns and 200 rows in the dataframe. The datatype of CustomerID, Age, Annual Income and Spending score is integer whereas, data type of gender column in object. \n",
    "#### Customer ID column stores the unique ID of the customer\n",
    "#### Gender column stores the sex of the customer\n",
    "#### Age column stores the age of the customer \n",
    "#### Annual Income stores the income amount of the customer where 'k' denotes multiple of thousand\n",
    "#### Spending score stores the Spending score of the customer out of 100 "
   ]
  },
  {
   "cell_type": "markdown",
   "id": "cbfb72a6-386f-4e96-b64d-77ae616be7ba",
   "metadata": {
    "tags": []
   },
   "source": [
    "## 1.5) Statistical Description "
   ]
  },
  {
   "cell_type": "code",
   "execution_count": 9,
   "id": "5295a889-ca03-4f86-9a46-154466f0791b",
   "metadata": {
    "tags": []
   },
   "outputs": [
    {
     "data": {
      "text/html": [
       "<div>\n",
       "<style scoped>\n",
       "    .dataframe tbody tr th:only-of-type {\n",
       "        vertical-align: middle;\n",
       "    }\n",
       "\n",
       "    .dataframe tbody tr th {\n",
       "        vertical-align: top;\n",
       "    }\n",
       "\n",
       "    .dataframe thead th {\n",
       "        text-align: right;\n",
       "    }\n",
       "</style>\n",
       "<table border=\"1\" class=\"dataframe\">\n",
       "  <thead>\n",
       "    <tr style=\"text-align: right;\">\n",
       "      <th></th>\n",
       "      <th>Age</th>\n",
       "      <th>Annual Income (k$)</th>\n",
       "      <th>Spending Score (1-100)</th>\n",
       "    </tr>\n",
       "  </thead>\n",
       "  <tbody>\n",
       "    <tr>\n",
       "      <th>count</th>\n",
       "      <td>200.000000</td>\n",
       "      <td>200.000000</td>\n",
       "      <td>200.000000</td>\n",
       "    </tr>\n",
       "    <tr>\n",
       "      <th>mean</th>\n",
       "      <td>38.850000</td>\n",
       "      <td>60.560000</td>\n",
       "      <td>50.200000</td>\n",
       "    </tr>\n",
       "    <tr>\n",
       "      <th>std</th>\n",
       "      <td>13.969007</td>\n",
       "      <td>26.264721</td>\n",
       "      <td>25.823522</td>\n",
       "    </tr>\n",
       "    <tr>\n",
       "      <th>min</th>\n",
       "      <td>18.000000</td>\n",
       "      <td>15.000000</td>\n",
       "      <td>1.000000</td>\n",
       "    </tr>\n",
       "    <tr>\n",
       "      <th>25%</th>\n",
       "      <td>28.750000</td>\n",
       "      <td>41.500000</td>\n",
       "      <td>34.750000</td>\n",
       "    </tr>\n",
       "    <tr>\n",
       "      <th>50%</th>\n",
       "      <td>36.000000</td>\n",
       "      <td>61.500000</td>\n",
       "      <td>50.000000</td>\n",
       "    </tr>\n",
       "    <tr>\n",
       "      <th>75%</th>\n",
       "      <td>49.000000</td>\n",
       "      <td>78.000000</td>\n",
       "      <td>73.000000</td>\n",
       "    </tr>\n",
       "    <tr>\n",
       "      <th>max</th>\n",
       "      <td>70.000000</td>\n",
       "      <td>137.000000</td>\n",
       "      <td>99.000000</td>\n",
       "    </tr>\n",
       "  </tbody>\n",
       "</table>\n",
       "</div>"
      ],
      "text/plain": [
       "              Age  Annual Income (k$)  Spending Score (1-100)\n",
       "count  200.000000          200.000000              200.000000\n",
       "mean    38.850000           60.560000               50.200000\n",
       "std     13.969007           26.264721               25.823522\n",
       "min     18.000000           15.000000                1.000000\n",
       "25%     28.750000           41.500000               34.750000\n",
       "50%     36.000000           61.500000               50.000000\n",
       "75%     49.000000           78.000000               73.000000\n",
       "max     70.000000          137.000000               99.000000"
      ]
     },
     "execution_count": 9,
     "metadata": {},
     "output_type": "execute_result"
    }
   ],
   "source": [
    "dataframe[['Age','Annual Income (k$)','Spending Score (1-100)']].describe()"
   ]
  },
  {
   "cell_type": "markdown",
   "id": "0ea7b66b-bf1b-4661-99f8-9fa56bb23b37",
   "metadata": {},
   "source": [
    "#### The overall summary statistic of the each numerical column is shown with their total count row entries, mean , standard deviation, minimun and maximum values of each numerical column, and 1st,2nd, and 3rd quartile values."
   ]
  },
  {
   "cell_type": "code",
   "execution_count": 10,
   "id": "f8ac11a8-a3f2-49a8-8cf2-18ed5a275b4a",
   "metadata": {
    "tags": []
   },
   "outputs": [
    {
     "data": {
      "text/plain": [
       "Age                       195.133166\n",
       "Annual Income (k$)        689.835578\n",
       "Spending Score (1-100)    666.854271\n",
       "dtype: float64"
      ]
     },
     "execution_count": 10,
     "metadata": {},
     "output_type": "execute_result"
    }
   ],
   "source": [
    "dataframe[['Age','Annual Income (k$)','Spending Score (1-100)']].var()"
   ]
  },
  {
   "cell_type": "markdown",
   "id": "68603e1e-65a8-477e-b046-1020d21f4e8f",
   "metadata": {},
   "source": [
    "#### Annual Income column has the highest variance compare to other column which indicates us that the data is spreadness is large around the central tendency metric mean\n",
    "#### Whereas age column has low variance which indicates us that the data is nearer to mean or concentrated towards the mean.  "
   ]
  },
  {
   "cell_type": "markdown",
   "id": "78895ec9-d237-456d-ae70-b56917bf6e32",
   "metadata": {
    "tags": []
   },
   "source": [
    "## 1.6) Skewness "
   ]
  },
  {
   "cell_type": "code",
   "execution_count": 11,
   "id": "951bf2d3-8222-445f-93c6-a057e4184e3b",
   "metadata": {
    "tags": []
   },
   "outputs": [
    {
     "data": {
      "text/plain": [
       "Age                       0.485569\n",
       "Annual Income (k$)        0.321843\n",
       "Spending Score (1-100)   -0.047220\n",
       "dtype: float64"
      ]
     },
     "execution_count": 11,
     "metadata": {},
     "output_type": "execute_result"
    }
   ],
   "source": [
    "dataframe[['Age','Annual Income (k$)','Spending Score (1-100)']].skew()"
   ]
  },
  {
   "cell_type": "markdown",
   "id": "1e397e25-acc2-4bed-88ee-202f29411e43",
   "metadata": {},
   "source": [
    "### 1.6.1) Spending score column "
   ]
  },
  {
   "cell_type": "code",
   "execution_count": 16,
   "id": "872bf3ca-73aa-4122-9315-dfe0d8ca393e",
   "metadata": {
    "tags": []
   },
   "outputs": [
    {
     "data": {
      "image/png": "[encoded data removed]",
      "text/plain": [
       "<Figure size 600x400 with 1 Axes>"
      ]
     },
     "metadata": {},
     "output_type": "display_data"
    }
   ],
   "source": [
    "# calculating the desire number of bins for the histogram \n",
    "binss = dataframe['Spending Score (1-100)'].max() - dataframe['Spending Score (1-100)'].min()\n",
    "# fiugure size \n",
    "plt.figure(figsize=(6, 4))\n",
    "# plotting histogram for work_year columm \n",
    "sns.histplot(dataframe['Spending Score (1-100)'], bins=\"rice\", kde=True,color='GREEN')\n",
    "# x axis  ticks values \n",
    "plt.xticks(range(0,100,10))\n",
    "# y axis ticks value \n",
    "plt.yticks(range(0,45,5))\n",
    "# title of the plot \n",
    "plt.title(\"frequency distribution of Spending Score (1-100) column \" )\n",
    "# name of the xlabel \n",
    "plt.xlabel('Spending Score (1-100)')\n",
    "# name of the y label \n",
    "plt.ylabel(\"frequency\")\n",
    "# include grid in the histogram \n",
    "plt.grid()\n",
    "plt.savefig(\"hist.png\")\n",
    "plt.show()"
   ]
  },
  {
   "cell_type": "markdown",
   "id": "6d1771f1-06db-4610-ac16-418d42628f3e",
   "metadata": {
    "tags": []
   },
   "source": [
    "#### Spending score column is  slighly negatively skewed/ left skewed, the data is relatively symmetrical/ normally distributed.\n",
    "#### Most of the customer have higher spending score, while few  customer  have lower spending score as they rarely vists  the department store \n",
    "\n",
    "\n",
    "\n",
    "\n"
   ]
  },
  {
   "cell_type": "markdown",
   "id": "8b2240c7-96dd-4643-aad9-4aa215318a6d",
   "metadata": {
    "tags": []
   },
   "source": [
    "### 1.6.2) Age column "
   ]
  },
  {
   "cell_type": "code",
   "execution_count": null,
   "id": "924ca47f-2e6c-4d50-8d6c-8e7da7eef437",
   "metadata": {
    "tags": []
   },
   "outputs": [],
   "source": [
    "# calculating the desire number of bins for the histogram \n",
    "# fiugure size \n",
    "plt.figure(figsize=(6, 4))\n",
    "# plotting histogram for work_year columm \n",
    "sns.histplot(dataframe['Age'], bins='rice', kde=True,color='red')\n",
    "# x axis  ticks values \n",
    "plt.xticks(range(0,100,10))\n",
    "# y axis ticks value \n",
    "plt.yticks(range(0,45,5))\n",
    "# title of the plot \n",
    "plt.title(\"frequency distribution of Age column \" )\n",
    "# name of the xlabel \n",
    "plt.xlabel('Age')\n",
    "# name of the y label \n",
    "plt.ylabel(\"frequency\")\n",
    "# include grid in the histogram \n",
    "plt.grid()\n",
    "plt.show()"
   ]
  },
  {
   "cell_type": "markdown",
   "id": "c34237de-c9df-4ce1-afa7-da8970aa8d1c",
   "metadata": {},
   "source": [
    "#### Data is Right skewed which means that most of the data is concentrated towards the left side with in range of 20 to 55 years.  Age group of 30 to 35 have the highest number of people in the data set. "
   ]
  },
  {
   "cell_type": "markdown",
   "id": "bd2b80c6-859f-4a27-8db5-b21925fb0bbb",
   "metadata": {},
   "source": [
    "### 1.6.3) Annual Income column "
   ]
  },
  {
   "cell_type": "code",
   "execution_count": null,
   "id": "4f078d17-73d0-4ed8-8302-3c7ef1df4597",
   "metadata": {
    "tags": []
   },
   "outputs": [],
   "source": [
    "# calculating the desire number of bins for the histogram \n",
    "\n",
    "# fiugure size \n",
    "plt.figure(figsize=(6, 4))\n",
    "# plotting histogram for work_year columm \n",
    "sns.histplot(dataframe['Annual Income (k$)'], bins=\"rice\", kde=True,color='purple')\n",
    "# title of the plot \n",
    "plt.title(\"frequency distribution of Annual Income (k$)column \" )\n",
    "# name of the xlabel \n",
    "plt.xlabel('Annual Income (k$)')\n",
    "# name of the y label \n",
    "plt.ylabel(\"frequency\")\n",
    "# include grid in the histogram \n",
    "plt.grid()\n",
    "plt.savefig(\"hist.png\")\n",
    "plt.show()"
   ]
  },
  {
   "cell_type": "markdown",
   "id": "83ce39c2-a828-490f-a237-7f79245d5b91",
   "metadata": {},
   "source": [
    "#### The data is right skewed which indicates us that data is concentrated toward the right side, with in the range of 15-115k dollar. Small portion of the people are earning high income around 130k-140k. While majority of the people are earning around 15k-115k."
   ]
  },
  {
   "cell_type": "markdown",
   "id": "a60abdf7-743f-4510-b4f1-0cf31d440ae5",
   "metadata": {
    "tags": []
   },
   "source": [
    "##"
   ]
  },
  {
   "cell_type": "markdown",
   "id": "786a82d8-3b77-48a6-8e11-d9473f7d92e4",
   "metadata": {
    "tags": []
   },
   "source": [
    "## 1.7) Total number of female and male in the data set"
   ]
  },
  {
   "cell_type": "code",
   "execution_count": null,
   "id": "9ad96372-82e8-49f8-87e4-5f63ba98725e",
   "metadata": {
    "tags": []
   },
   "outputs": [],
   "source": [
    "gender = dataframe[['Gender']].value_counts().reset_index()\n",
    "gender.columns = ['Gender', 'Count']\n",
    "print(gender)"
   ]
  },
  {
   "cell_type": "code",
   "execution_count": null,
   "id": "bb0ad80a-348e-4a73-9a78-122e151124bd",
   "metadata": {
    "tags": []
   },
   "outputs": [],
   "source": [
    "sns.barplot(data =gender,x = 'Gender' ,y='Count',width=0.6)\n",
    "plt.title(\"Gender distribution\")\n",
    "plt.xlabel(\"Genders\")\n",
    "plt.ylabel(\"count\")\n",
    "plt.ylim(0,150)\n",
    "plt.yticks(np.arange(0,150,10))\n",
    "plt.show()"
   ]
  },
  {
   "cell_type": "markdown",
   "id": "3b7c6029-a1c1-472a-bacc-b464a413497e",
   "metadata": {
    "tags": []
   },
   "source": [
    "#### There are total of 112 female and 88 male data in a data frame. "
   ]
  },
  {
   "cell_type": "markdown",
   "id": "ef868ead-27a7-4bc3-844d-e33cf2ca0584",
   "metadata": {},
   "source": [
    "## 1.8)  Missing values \n"
   ]
  },
  {
   "cell_type": "code",
   "execution_count": null,
   "id": "071fac82-9002-492c-8c4a-717941086e57",
   "metadata": {
    "tags": []
   },
   "outputs": [],
   "source": [
    "dataframe.isna().sum()"
   ]
  },
  {
   "cell_type": "markdown",
   "id": "0731dad2-6a42-4aaf-9c14-b615d79180c6",
   "metadata": {
    "tags": []
   },
   "source": [
    "#### No missing values in the data set "
   ]
  },
  {
   "cell_type": "code",
   "execution_count": null,
   "id": "4f7dcdce-6162-46bc-8cdb-6b0c481afdc0",
   "metadata": {
    "tags": []
   },
   "outputs": [],
   "source": [
    "import missingno as msno\n",
    "msno.matrix(dataframe)"
   ]
  },
  {
   "cell_type": "markdown",
   "id": "816a3fb6-5690-47c7-aea4-32483ec97909",
   "metadata": {},
   "source": [
    "## 1.9) Duplicate values "
   ]
  },
  {
   "cell_type": "code",
   "execution_count": null,
   "id": "93330b77-0714-4e4e-80d8-1a08b7ec42e6",
   "metadata": {
    "tags": []
   },
   "outputs": [],
   "source": [
    "dataframe.duplicated().any()"
   ]
  },
  {
   "cell_type": "markdown",
   "id": "4353bbb9-4f0b-4a5c-a2a1-b6b2a7b92edb",
   "metadata": {},
   "source": [
    "#### All the row entry are unique, no duplicates data "
   ]
  },
  {
   "cell_type": "code",
   "execution_count": 17,
   "id": "ea027a54-a401-4495-b21c-51b613111f29",
   "metadata": {
    "tags": []
   },
   "outputs": [
    {
     "data": {
      "text/html": [
       "<div>\n",
       "<style scoped>\n",
       "    .dataframe tbody tr th:only-of-type {\n",
       "        vertical-align: middle;\n",
       "    }\n",
       "\n",
       "    .dataframe tbody tr th {\n",
       "        vertical-align: top;\n",
       "    }\n",
       "\n",
       "    .dataframe thead th {\n",
       "        text-align: right;\n",
       "    }\n",
       "</style>\n",
       "<table border=\"1\" class=\"dataframe\">\n",
       "  <thead>\n",
       "    <tr style=\"text-align: right;\">\n",
       "      <th></th>\n",
       "      <th>Age</th>\n",
       "      <th>Annual Income (k$)</th>\n",
       "      <th>Spending Score (1-100)</th>\n",
       "    </tr>\n",
       "  </thead>\n",
       "  <tbody>\n",
       "    <tr>\n",
       "      <th>Age</th>\n",
       "      <td>1.000000</td>\n",
       "      <td>-0.012398</td>\n",
       "      <td>-0.327227</td>\n",
       "    </tr>\n",
       "    <tr>\n",
       "      <th>Annual Income (k$)</th>\n",
       "      <td>-0.012398</td>\n",
       "      <td>1.000000</td>\n",
       "      <td>0.009903</td>\n",
       "    </tr>\n",
       "    <tr>\n",
       "      <th>Spending Score (1-100)</th>\n",
       "      <td>-0.327227</td>\n",
       "      <td>0.009903</td>\n",
       "      <td>1.000000</td>\n",
       "    </tr>\n",
       "  </tbody>\n",
       "</table>\n",
       "</div>"
      ],
      "text/plain": [
       "                             Age  Annual Income (k$)  Spending Score (1-100)\n",
       "Age                     1.000000           -0.012398               -0.327227\n",
       "Annual Income (k$)     -0.012398            1.000000                0.009903\n",
       "Spending Score (1-100) -0.327227            0.009903                1.000000"
      ]
     },
     "execution_count": 17,
     "metadata": {},
     "output_type": "execute_result"
    }
   ],
   "source": [
    "\n",
    "dataframe[['Age','Annual Income (k$)','Spending Score (1-100)']].corr()"
   ]
  },
  {
   "cell_type": "code",
   "execution_count": 21,
   "id": "1836aaab-aa4b-4e27-9965-e72d63086e01",
   "metadata": {
    "tags": []
   },
   "outputs": [
    {
     "name": "stderr",
     "output_type": "stream",
     "text": [
      "C:\\Users\\LENOVO\\AppData\\Local\\Temp\\ipykernel_8656\\1494477554.py:1: UserWarning: Ignoring `palette` because no `hue` variable has been assigned.\n",
      "  sns.scatterplot(data = dataframe, x = \"Age\",y=\"Spending Score (1-100)\",palette='pastel')\n"
     ]
    },
    {
     "data": {
      "text/plain": [
       "<Axes: xlabel='Age', ylabel='Spending Score (1-100)'>"
      ]
     },
     "execution_count": 21,
     "metadata": {},
     "output_type": "execute_result"
    },
    {
     "data": {
      "image/png": "[encoded data removed]",
      "text/plain": [
       "<Figure size 640x480 with 1 Axes>"
      ]
     },
     "metadata": {},
     "output_type": "display_data"
    }
   ],
   "source": [
    "sns.scatterplot(data = dataframe, x = \"Age\",y=\"Spending Score (1-100)\",palette='pastel')"
   ]
  },
  {
   "cell_type": "markdown",
   "id": "f32e9676-3c01-4d83-8243-afe04cb8ea84",
   "metadata": {},
   "source": [
    "#### There is no correlation between Age and Spending score of the customer. It indicates that the higher or lower value of age doesn't affect the spending score and vice-versa."
   ]
  },
  {
   "cell_type": "code",
   "execution_count": null,
   "id": "15fc0de2-48d3-4db4-b4af-774f7ea98f30",
   "metadata": {},
   "outputs": [],
   "source": []
  },
  {
   "cell_type": "code",
   "execution_count": null,
   "id": "2266ba16-91d4-4bb7-a699-a74074390847",
   "metadata": {},
   "outputs": [],
   "source": []
  },
  {
   "cell_type": "code",
   "execution_count": null,
   "id": "7200ad60-c7f4-4030-9a04-5fe5cf7d08b4",
   "metadata": {},
   "outputs": [],
   "source": []
  },
  {
   "cell_type": "code",
   "execution_count": null,
   "id": "c6c8fab6-137d-4b35-b7e4-23ef7b6a572c",
   "metadata": {},
   "outputs": [],
   "source": []
  },
  {
   "cell_type": "code",
   "execution_count": null,
   "id": "14df36de-a992-483b-b5c3-65f25cede7cc",
   "metadata": {},
   "outputs": [],
   "source": []
  },
  {
   "cell_type": "code",
   "execution_count": null,
   "id": "a6bd7dc2-1b8c-4dd4-b714-8f67d1e0d538",
   "metadata": {},
   "outputs": [],
   "source": []
  },
  {
   "cell_type": "code",
   "execution_count": null,
   "id": "08380fc1-bce0-4673-8e4a-020360dca7da",
   "metadata": {},
   "outputs": [],
   "source": []
  }
 ],
 "metadata": {
  "kernelspec": {
   "display_name": "Python 3 (ipykernel)",
   "language": "python",
   "name": "python3"
  },
  "language_info": {
   "codemirror_mode": {
    "name": "ipython",
    "version": 3
   },
   "file_extension": ".py",
   "mimetype": "text/x-python",
   "name": "python",
   "nbconvert_exporter": "python",
   "pygments_lexer": "ipython3",
   "version": "3.11.5"
  }
 },
 "nbformat": 4,
 "nbformat_minor": 5
}
